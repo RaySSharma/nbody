{
 "cells": [
  {
   "cell_type": "code",
   "execution_count": 9,
   "metadata": {
    "collapsed": true
   },
   "outputs": [],
   "source": [
    "import numpy as np\n",
    "import random as rd"
   ]
  },
  {
   "cell_type": "code",
   "execution_count": 10,
   "metadata": {
    "collapsed": false
   },
   "outputs": [],
   "source": [
    "N=100\n",
    "G=4.302*10**-3 #pc (km/s)^2 Msun^-1\n",
    "size = 50\n",
    "levels = int(np.floor(np.log(N)/np.log(4)))\n",
    "eps=2\n",
    "p = int(np.log2(eps))\n",
    "numcells = 4**levels\n",
    "rd.seed(10)"
   ]
  },
  {
   "cell_type": "code",
   "execution_count": 48,
   "metadata": {
    "collapsed": false
   },
   "outputs": [],
   "source": [
    "mass = np.ones((N)).reshape(-1,1)\n",
    "x = [rd.uniform(-size,size) for i in range(N)]\n",
    "y = [rd.uniform(-size,size) for i in range(N)]\n",
    "points = np.array(list(zip(x,y)))\n",
    "data = 1j*points[:,1]; data+=points[:,0]; data = data.reshape(N,1)"
   ]
  },
  {
   "cell_type": "code",
   "execution_count": 171,
   "metadata": {
    "collapsed": false
   },
   "outputs": [],
   "source": [
    "def cellNum(cells, coords): #Return the cell each particle belongs to, as well as the midpoint of the cell.\n",
    "    cellbound = cells[::4]\n",
    "    for i in range(len(cellbound)):\n",
    "        if coords.real > cellbound[i]:\n",
    "            indx = i\n",
    "            break\n",
    "    for j in range(len(cellbound)):\n",
    "        if coords.imag > cellbound[j]:\n",
    "            indy = j\n",
    "            break\n",
    "    return [indx,indy]\n",
    "\n",
    "def cellMid(cells, inds): #Return the middle-point of the input cell\n",
    "    cellmid = cells[2::4]\n",
    "    midx = cellmid[inds[0]-1]\n",
    "    midy = cellmid[inds[1]-1]\n",
    "    return complex(midx, midy)"
   ]
  },
  {
   "cell_type": "code",
   "execution_count": 172,
   "metadata": {
    "collapsed": true
   },
   "outputs": [],
   "source": [
    "def childNum(cells, coords):\n",
    "    cellbound = cells[::2]\n",
    "    for i in range(len(cellbound)):\n",
    "        if coords.real > cellbound[i]:\n",
    "            indx = i\n",
    "            break\n",
    "    for j in range(len(cellbound)):\n",
    "        if coords.imag > cellbound[j]:\n",
    "            indy = j\n",
    "            break\n",
    "    return [indx,indy]\n",
    "    \n",
    "def childMid(cells, inds):\n",
    "    cellmid = cells[1::2]\n",
    "    midx = cellmid[inds[0]-1]\n",
    "    midy = cellmid[inds[1]-1]\n",
    "    return complex(midx, midy)"
   ]
  },
  {
   "cell_type": "code",
   "execution_count": 173,
   "metadata": {
    "collapsed": false
   },
   "outputs": [],
   "source": [
    "def coeff(z, q, k): #return expansion coefficients\n",
    "    a = [-q[m]*(z[m]**k)/k for m in range(len(q))]\n",
    "    return np.sum(a)\n",
    "\n",
    "def potentialStep1(z,z0,q): #calculate potential centered around cell center, z0, out to p terms\n",
    "    t1 = np.sum(q)*np.log(z0)\n",
    "    t2 = np.sum([coeff(z-z0,q,k)/(z0**k) for k in range(1,p+1)])\n",
    "    return t1+t2\n",
    "\n",
    "def upPass1(data, mass): # Output (i x j x p) matrix\n",
    "    cells = np.linspace(size,-size, 1+2**(levels+2)) #Mesh coordinates for finest mesh [level+2] (to make finding midpoints and children easier)\n",
    "    cellnums = np.array([cellNum(cells, coords) for coords in data])#.reshape(N,1) #Calculate cell indices for each input point\n",
    "    cellmids = np.array([cellMid(cells, inds) for inds in cellnums]) #Calculate cell mid-coordinates\n",
    "    for i in range(1,2**levels+1):\n",
    "        for j in range(1,2**levels+1):\n",
    "            pointfilter = np.where( (cellnums[:,0] == i) & (cellnums[:,1] == j) )\n",
    "            try:\n",
    "                z0 = cellmids[pointfilter][0] #Mid coords for selected cell\n",
    "                z = data[:,0][pointfilter] #Coords for points in selected cell\n",
    "                q = mass[pointfilter] #Masses for selected points\n",
    "                print(potentialStep1(z,z0,q)) #Potential of points around cell center ##This should be changed to be a matrix of expansion ;\n",
    "                                                                    #coefficients that gets sent into the next step to be used to calculate coarser expansion potentials.\n",
    "            except:\n",
    "                continue\n",
    "                \n",
    "def upPass2(data, mass):\n",
    "    l = levels - 1\n",
    "    while(l >= 0):\n",
    "        cells = np.linspace(size,-size,1+2**(l+2))\n",
    "        cellnums = np.array([cellNum(cells, coords) for coords in data])\n",
    "        cellmids = np.array([cellMid(cells, inds) for inds in cellnums])\n",
    "        childnums = np.array([childNum(cells, coords) for coords in data])\n",
    "        childmids = np.array([childMid(cells, inds) for inds in childnums])\n",
    "        for i in range(1,2**l+1):\n",
    "            for j in range(1,2**l+1):\n",
    "                #Pull coefficients for the children of this cell, regardless of population.\n",
    "                pointfilter = np.where( (cellnums[:,0] == i) & (cellnums[:,1] == j) )\n",
    "                try:\n",
    "                    z0 = cellmids[pointfilter][0] #Mid coords for selected cell\n",
    "                    z = data[:,0][pointfilter] #Coords for points in selected cell\n",
    "                    q = mass[pointfilter] #Masses for selected points\n",
    "                    print(potentialStep1(z,z0,q)) #Potential of points around cell center\n",
    "                except:\n",
    "                    continue\n",
    "        l-=1"
   ]
  },
  {
   "cell_type": "code",
   "execution_count": 199,
   "metadata": {
    "collapsed": false
   },
   "outputs": [],
   "source": [
    "test1 = np.linspace(size,-size, 1+2**(1+2)) #Mesh coordinates for finest mesh [level+2] (to make finding midpoints and children easier)\n",
    "test2 = np.array([cellNum(test1, coords) for coords in data])#.reshape(N,1) #Calculate cell indices for each input point\n",
    "test3 = np.array([cellMid(test1, inds) for inds in test2]).reshape(N,1) #Calculate cell mid-coordinates\n",
    "test4 = np.array([childNum(test1, coords) for coords in data])\n",
    "test5 = np.array([childMid(test1, inds) for inds in test4]).reshape(N,1)"
   ]
  },
  {
   "cell_type": "code",
   "execution_count": null,
   "metadata": {
    "collapsed": true
   },
   "outputs": [],
   "source": []
  }
 ],
 "metadata": {
  "kernelspec": {
   "display_name": "Python 3",
   "language": "python",
   "name": "python3"
  },
  "language_info": {
   "codemirror_mode": {
    "name": "ipython",
    "version": 3
   },
   "file_extension": ".py",
   "mimetype": "text/x-python",
   "name": "python",
   "nbconvert_exporter": "python",
   "pygments_lexer": "ipython3",
   "version": "3.5.1"
  }
 },
 "nbformat": 4,
 "nbformat_minor": 0
}
