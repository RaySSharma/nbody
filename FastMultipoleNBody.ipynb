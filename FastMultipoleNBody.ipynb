{
 "cells": [
  {
   "cell_type": "code",
   "execution_count": 1,
   "metadata": {
    "collapsed": true
   },
   "outputs": [],
   "source": [
    "import numpy as np\n",
    "import random as rd"
   ]
  },
  {
   "cell_type": "code",
   "execution_count": 2,
   "metadata": {
    "collapsed": false
   },
   "outputs": [],
   "source": [
    "N=100\n",
    "G=4.302*10**-3 #pc (km/s)^2 Msun^-1\n",
    "size = 50\n",
    "levels = int(np.floor(np.log(N)/np.log(4)))\n",
    "eps=2\n",
    "p = int(np.log2(eps))\n",
    "numcells = 4**levels\n",
    "rd.seed(10)"
   ]
  },
  {
   "cell_type": "code",
   "execution_count": 3,
   "metadata": {
    "collapsed": false
   },
   "outputs": [],
   "source": [
    "mass = np.ones((N)).reshape(-1,1)\n",
    "x = [rd.uniform(-size,size) for i in range(N)]\n",
    "y = [rd.uniform(-size,size) for i in range(N)]\n",
    "points = np.array(list(zip(x,y)))"
   ]
  },
  {
   "cell_type": "code",
   "execution_count": 47,
   "metadata": {
    "collapsed": false
   },
   "outputs": [],
   "source": [
    "import pdb\n",
    "\n",
    "def cellPos(coords, cells): #Return the cell each particle belongs to, as well as the midpoint of the cell.\n",
    "    pdb.set_trace()\n",
    "    cellmid = cells[1::2]\n",
    "    cellbound = cells[::2]\n",
    "    for i in range(len(cellbound)):\n",
    "        if coords[0] > cellbound[i]:\n",
    "            midx = cellmid[i-1]\n",
    "            numx = i\n",
    "            break\n",
    "    for i in range(len(cellbound)):\n",
    "        if coords[1] > cellbound[i]:\n",
    "            midy = cellmid[i-1]\n",
    "            numy = i\n",
    "            break\n",
    "    return [numx,numy,complex(midx,midy)]"
   ]
  },
  {
   "cell_type": "code",
   "execution_count": 48,
   "metadata": {
    "collapsed": false
   },
   "outputs": [],
   "source": [
    "def coeff(z, q, k): #return expansion coefficients\n",
    "    #a = np.zeros(p, complex)\n",
    "    a = [-q[m]*(z[m]**k)/k for m in range(len(q))]\n",
    "    #for m in range(len(q)):\n",
    "    #a[k-1] = -q[m]*(z[m]**k)/k\n",
    "    return np.sum(a)\n",
    "\n",
    "def potentialStep1(z,z0,q): #calculate potential centered around cell center, z0\n",
    "    t1 = np.sum(q)*np.log(z0)\n",
    "    t2 = np.sum([coeff(z-z0,q,k)/(z0**k) for k in range(1,p+1)])\n",
    "    return t1+t2\n",
    "\n",
    "def upPass1(points, mass):\n",
    "    cells = np.linspace(size,-size, 1+2**(levels+1)) #Mesh coordinates for finest mesh [level+1] (to make finding midpoints easier)\n",
    "    finest_pos = np.array([cellPos(coords, cells) for coords in points]) #Midpoints & cell numbers for points at finest mesh level\n",
    "    data = 1j*points[:,1]; data+=points[:,0]; data = data.reshape(N,1)\n",
    "    data = np.append(data,finest_pos, axis=1) #Total data in complex form (coordinates, cell numbers, midpoints)\n",
    "    for i in range(1,2**levels):\n",
    "        for j in range(1,2**levels):\n",
    "            pointfilter = np.where( (data[:,1] == i) & (data[:,2] == j) )\n",
    "            try:\n",
    "                z = data[:,0][pointfilter]\n",
    "                z0 = data[:,3][pointfilter][0]\n",
    "                q = mass[pointfilter]\n",
    "                print(potentialStep1(z,z0,q))\n",
    "            except:\n",
    "                continue\n",
    "                \n",
    "def data(points):\n",
    "    for l in range(levels+1):\n",
    "        pdb.set_trace()\n",
    "        cells = np.linspace(size,-size, 1+2**(l+1))\n",
    "        pos = np.array([cellPos(coords, cells) for coords in points])\n",
    "        data = np.append(data, pos, axis=1)\n",
    "\n",
    "def upPass2(points, mass):\n",
    "    l = levels - 1\n",
    "    while(l >= 0):\n",
    "        cells = np.linspace(size,-size,1+2**(levels+2))\n",
    "        #mesh_pos = "
   ]
  },
  {
   "cell_type": "code",
   "execution_count": 49,
   "metadata": {
    "collapsed": false
   },
   "outputs": [
    {
     "name": "stdout",
     "output_type": "stream",
     "text": [
      "> <ipython-input-48-940d51ca6bc9>(34)data()\n",
      "-> data = np.append(data, pos, axis=1)\n",
      "(Pdb) pos\n",
      "array([[ 1.+0.j,  1.+0.j,  0.+0.j],\n",
      "       [ 1.+0.j,  1.+0.j,  0.+0.j],\n",
      "       [ 1.+0.j,  1.+0.j,  0.+0.j],\n",
      "       [ 1.+0.j,  1.+0.j,  0.+0.j],\n",
      "       [ 1.+0.j,  1.+0.j,  0.+0.j],\n",
      "       [ 1.+0.j,  1.+0.j,  0.+0.j],\n",
      "       [ 1.+0.j,  1.+0.j,  0.+0.j],\n",
      "       [ 1.+0.j,  1.+0.j,  0.+0.j],\n",
      "       [ 1.+0.j,  1.+0.j,  0.+0.j],\n",
      "       [ 1.+0.j,  1.+0.j,  0.+0.j],\n",
      "       [ 1.+0.j,  1.+0.j,  0.+0.j],\n",
      "       [ 1.+0.j,  1.+0.j,  0.+0.j],\n",
      "       [ 1.+0.j,  1.+0.j,  0.+0.j],\n",
      "       [ 1.+0.j,  1.+0.j,  0.+0.j],\n",
      "       [ 1.+0.j,  1.+0.j,  0.+0.j],\n",
      "       [ 1.+0.j,  1.+0.j,  0.+0.j],\n",
      "       [ 1.+0.j,  1.+0.j,  0.+0.j],\n",
      "       [ 1.+0.j,  1.+0.j,  0.+0.j],\n",
      "       [ 1.+0.j,  1.+0.j,  0.+0.j],\n",
      "       [ 1.+0.j,  1.+0.j,  0.+0.j],\n",
      "       [ 1.+0.j,  1.+0.j,  0.+0.j],\n",
      "       [ 1.+0.j,  1.+0.j,  0.+0.j],\n",
      "       [ 1.+0.j,  1.+0.j,  0.+0.j],\n",
      "       [ 1.+0.j,  1.+0.j,  0.+0.j],\n",
      "       [ 1.+0.j,  1.+0.j,  0.+0.j],\n",
      "       [ 1.+0.j,  1.+0.j,  0.+0.j],\n",
      "       [ 1.+0.j,  1.+0.j,  0.+0.j],\n",
      "       [ 1.+0.j,  1.+0.j,  0.+0.j],\n",
      "       [ 1.+0.j,  1.+0.j,  0.+0.j],\n",
      "       [ 1.+0.j,  1.+0.j,  0.+0.j],\n",
      "       [ 1.+0.j,  1.+0.j,  0.+0.j],\n",
      "       [ 1.+0.j,  1.+0.j,  0.+0.j],\n",
      "       [ 1.+0.j,  1.+0.j,  0.+0.j],\n",
      "       [ 1.+0.j,  1.+0.j,  0.+0.j],\n",
      "       [ 1.+0.j,  1.+0.j,  0.+0.j],\n",
      "       [ 1.+0.j,  1.+0.j,  0.+0.j],\n",
      "       [ 1.+0.j,  1.+0.j,  0.+0.j],\n",
      "       [ 1.+0.j,  1.+0.j,  0.+0.j],\n",
      "       [ 1.+0.j,  1.+0.j,  0.+0.j],\n",
      "       [ 1.+0.j,  1.+0.j,  0.+0.j],\n",
      "       [ 1.+0.j,  1.+0.j,  0.+0.j],\n",
      "       [ 1.+0.j,  1.+0.j,  0.+0.j],\n",
      "       [ 1.+0.j,  1.+0.j,  0.+0.j],\n",
      "       [ 1.+0.j,  1.+0.j,  0.+0.j],\n",
      "       [ 1.+0.j,  1.+0.j,  0.+0.j],\n",
      "       [ 1.+0.j,  1.+0.j,  0.+0.j],\n",
      "       [ 1.+0.j,  1.+0.j,  0.+0.j],\n",
      "       [ 1.+0.j,  1.+0.j,  0.+0.j],\n",
      "       [ 1.+0.j,  1.+0.j,  0.+0.j],\n",
      "       [ 1.+0.j,  1.+0.j,  0.+0.j],\n",
      "       [ 1.+0.j,  1.+0.j,  0.+0.j],\n",
      "       [ 1.+0.j,  1.+0.j,  0.+0.j],\n",
      "       [ 1.+0.j,  1.+0.j,  0.+0.j],\n",
      "       [ 1.+0.j,  1.+0.j,  0.+0.j],\n",
      "       [ 1.+0.j,  1.+0.j,  0.+0.j],\n",
      "       [ 1.+0.j,  1.+0.j,  0.+0.j],\n",
      "       [ 1.+0.j,  1.+0.j,  0.+0.j],\n",
      "       [ 1.+0.j,  1.+0.j,  0.+0.j],\n",
      "       [ 1.+0.j,  1.+0.j,  0.+0.j],\n",
      "       [ 1.+0.j,  1.+0.j,  0.+0.j],\n",
      "       [ 1.+0.j,  1.+0.j,  0.+0.j],\n",
      "       [ 1.+0.j,  1.+0.j,  0.+0.j],\n",
      "       [ 1.+0.j,  1.+0.j,  0.+0.j],\n",
      "       [ 1.+0.j,  1.+0.j,  0.+0.j],\n",
      "       [ 1.+0.j,  1.+0.j,  0.+0.j],\n",
      "       [ 1.+0.j,  1.+0.j,  0.+0.j],\n",
      "       [ 1.+0.j,  1.+0.j,  0.+0.j],\n",
      "       [ 1.+0.j,  1.+0.j,  0.+0.j],\n",
      "       [ 1.+0.j,  1.+0.j,  0.+0.j],\n",
      "       [ 1.+0.j,  1.+0.j,  0.+0.j],\n",
      "       [ 1.+0.j,  1.+0.j,  0.+0.j],\n",
      "       [ 1.+0.j,  1.+0.j,  0.+0.j],\n",
      "       [ 1.+0.j,  1.+0.j,  0.+0.j],\n",
      "       [ 1.+0.j,  1.+0.j,  0.+0.j],\n",
      "       [ 1.+0.j,  1.+0.j,  0.+0.j],\n",
      "       [ 1.+0.j,  1.+0.j,  0.+0.j],\n",
      "       [ 1.+0.j,  1.+0.j,  0.+0.j],\n",
      "       [ 1.+0.j,  1.+0.j,  0.+0.j],\n",
      "       [ 1.+0.j,  1.+0.j,  0.+0.j],\n",
      "       [ 1.+0.j,  1.+0.j,  0.+0.j],\n",
      "       [ 1.+0.j,  1.+0.j,  0.+0.j],\n",
      "       [ 1.+0.j,  1.+0.j,  0.+0.j],\n",
      "       [ 1.+0.j,  1.+0.j,  0.+0.j],\n",
      "       [ 1.+0.j,  1.+0.j,  0.+0.j],\n",
      "       [ 1.+0.j,  1.+0.j,  0.+0.j],\n",
      "       [ 1.+0.j,  1.+0.j,  0.+0.j],\n",
      "       [ 1.+0.j,  1.+0.j,  0.+0.j],\n",
      "       [ 1.+0.j,  1.+0.j,  0.+0.j],\n",
      "       [ 1.+0.j,  1.+0.j,  0.+0.j],\n",
      "       [ 1.+0.j,  1.+0.j,  0.+0.j],\n",
      "       [ 1.+0.j,  1.+0.j,  0.+0.j],\n",
      "       [ 1.+0.j,  1.+0.j,  0.+0.j],\n",
      "       [ 1.+0.j,  1.+0.j,  0.+0.j],\n",
      "       [ 1.+0.j,  1.+0.j,  0.+0.j],\n",
      "       [ 1.+0.j,  1.+0.j,  0.+0.j],\n",
      "       [ 1.+0.j,  1.+0.j,  0.+0.j],\n",
      "       [ 1.+0.j,  1.+0.j,  0.+0.j],\n",
      "       [ 1.+0.j,  1.+0.j,  0.+0.j],\n",
      "       [ 1.+0.j,  1.+0.j,  0.+0.j],\n",
      "       [ 1.+0.j,  1.+0.j,  0.+0.j]])\n",
      "(Pdb) pos[0]\n",
      "array([ 1.+0.j,  1.+0.j,  0.+0.j])\n",
      "(Pdb) quit()\n"
     ]
    },
    {
     "ename": "BdbQuit",
     "evalue": "",
     "output_type": "error",
     "traceback": [
      "\u001b[1;31m---------------------------------------------------------------------------\u001b[0m",
      "\u001b[1;31mBdbQuit\u001b[0m                                   Traceback (most recent call last)",
      "\u001b[1;32m<ipython-input-49-f501fe6e35fe>\u001b[0m in \u001b[0;36m<module>\u001b[1;34m()\u001b[0m\n\u001b[1;32m----> 1\u001b[1;33m \u001b[0mdata\u001b[0m\u001b[1;33m(\u001b[0m\u001b[0mpoints\u001b[0m\u001b[1;33m)\u001b[0m\u001b[1;33m\u001b[0m\u001b[0m\n\u001b[0m",
      "\u001b[1;32m<ipython-input-48-940d51ca6bc9>\u001b[0m in \u001b[0;36mdata\u001b[1;34m(points)\u001b[0m\n\u001b[0;32m     32\u001b[0m         \u001b[0mpos\u001b[0m \u001b[1;33m=\u001b[0m \u001b[0mnp\u001b[0m\u001b[1;33m.\u001b[0m\u001b[0marray\u001b[0m\u001b[1;33m(\u001b[0m\u001b[1;33m[\u001b[0m\u001b[0mcellPos\u001b[0m\u001b[1;33m(\u001b[0m\u001b[0mcoords\u001b[0m\u001b[1;33m,\u001b[0m \u001b[0mcells\u001b[0m\u001b[1;33m)\u001b[0m \u001b[1;32mfor\u001b[0m \u001b[0mcoords\u001b[0m \u001b[1;32min\u001b[0m \u001b[0mpoints\u001b[0m\u001b[1;33m]\u001b[0m\u001b[1;33m)\u001b[0m\u001b[1;33m\u001b[0m\u001b[0m\n\u001b[0;32m     33\u001b[0m         \u001b[0mpdb\u001b[0m\u001b[1;33m.\u001b[0m\u001b[0mset_trace\u001b[0m\u001b[1;33m(\u001b[0m\u001b[1;33m)\u001b[0m\u001b[1;33m\u001b[0m\u001b[0m\n\u001b[1;32m---> 34\u001b[1;33m         \u001b[0mdata\u001b[0m \u001b[1;33m=\u001b[0m \u001b[0mnp\u001b[0m\u001b[1;33m.\u001b[0m\u001b[0mappend\u001b[0m\u001b[1;33m(\u001b[0m\u001b[0mdata\u001b[0m\u001b[1;33m,\u001b[0m \u001b[0mpos\u001b[0m\u001b[1;33m,\u001b[0m \u001b[0maxis\u001b[0m\u001b[1;33m=\u001b[0m\u001b[1;36m1\u001b[0m\u001b[1;33m)\u001b[0m\u001b[1;33m\u001b[0m\u001b[0m\n\u001b[0m\u001b[0;32m     35\u001b[0m \u001b[1;33m\u001b[0m\u001b[0m\n\u001b[0;32m     36\u001b[0m \u001b[1;32mdef\u001b[0m \u001b[0mupPass2\u001b[0m\u001b[1;33m(\u001b[0m\u001b[0mpoints\u001b[0m\u001b[1;33m,\u001b[0m \u001b[0mmass\u001b[0m\u001b[1;33m)\u001b[0m\u001b[1;33m:\u001b[0m\u001b[1;33m\u001b[0m\u001b[0m\n",
      "\u001b[1;32m<ipython-input-48-940d51ca6bc9>\u001b[0m in \u001b[0;36mdata\u001b[1;34m(points)\u001b[0m\n\u001b[0;32m     32\u001b[0m         \u001b[0mpos\u001b[0m \u001b[1;33m=\u001b[0m \u001b[0mnp\u001b[0m\u001b[1;33m.\u001b[0m\u001b[0marray\u001b[0m\u001b[1;33m(\u001b[0m\u001b[1;33m[\u001b[0m\u001b[0mcellPos\u001b[0m\u001b[1;33m(\u001b[0m\u001b[0mcoords\u001b[0m\u001b[1;33m,\u001b[0m \u001b[0mcells\u001b[0m\u001b[1;33m)\u001b[0m \u001b[1;32mfor\u001b[0m \u001b[0mcoords\u001b[0m \u001b[1;32min\u001b[0m \u001b[0mpoints\u001b[0m\u001b[1;33m]\u001b[0m\u001b[1;33m)\u001b[0m\u001b[1;33m\u001b[0m\u001b[0m\n\u001b[0;32m     33\u001b[0m         \u001b[0mpdb\u001b[0m\u001b[1;33m.\u001b[0m\u001b[0mset_trace\u001b[0m\u001b[1;33m(\u001b[0m\u001b[1;33m)\u001b[0m\u001b[1;33m\u001b[0m\u001b[0m\n\u001b[1;32m---> 34\u001b[1;33m         \u001b[0mdata\u001b[0m \u001b[1;33m=\u001b[0m \u001b[0mnp\u001b[0m\u001b[1;33m.\u001b[0m\u001b[0mappend\u001b[0m\u001b[1;33m(\u001b[0m\u001b[0mdata\u001b[0m\u001b[1;33m,\u001b[0m \u001b[0mpos\u001b[0m\u001b[1;33m,\u001b[0m \u001b[0maxis\u001b[0m\u001b[1;33m=\u001b[0m\u001b[1;36m1\u001b[0m\u001b[1;33m)\u001b[0m\u001b[1;33m\u001b[0m\u001b[0m\n\u001b[0m\u001b[0;32m     35\u001b[0m \u001b[1;33m\u001b[0m\u001b[0m\n\u001b[0;32m     36\u001b[0m \u001b[1;32mdef\u001b[0m \u001b[0mupPass2\u001b[0m\u001b[1;33m(\u001b[0m\u001b[0mpoints\u001b[0m\u001b[1;33m,\u001b[0m \u001b[0mmass\u001b[0m\u001b[1;33m)\u001b[0m\u001b[1;33m:\u001b[0m\u001b[1;33m\u001b[0m\u001b[0m\n",
      "\u001b[1;32m/home/ray/anaconda3/lib/python3.5/bdb.py\u001b[0m in \u001b[0;36mtrace_dispatch\u001b[1;34m(self, frame, event, arg)\u001b[0m\n\u001b[0;32m     46\u001b[0m             \u001b[1;32mreturn\u001b[0m \u001b[1;31m# None\u001b[0m\u001b[1;33m\u001b[0m\u001b[0m\n\u001b[0;32m     47\u001b[0m         \u001b[1;32mif\u001b[0m \u001b[0mevent\u001b[0m \u001b[1;33m==\u001b[0m \u001b[1;34m'line'\u001b[0m\u001b[1;33m:\u001b[0m\u001b[1;33m\u001b[0m\u001b[0m\n\u001b[1;32m---> 48\u001b[1;33m             \u001b[1;32mreturn\u001b[0m \u001b[0mself\u001b[0m\u001b[1;33m.\u001b[0m\u001b[0mdispatch_line\u001b[0m\u001b[1;33m(\u001b[0m\u001b[0mframe\u001b[0m\u001b[1;33m)\u001b[0m\u001b[1;33m\u001b[0m\u001b[0m\n\u001b[0m\u001b[0;32m     49\u001b[0m         \u001b[1;32mif\u001b[0m \u001b[0mevent\u001b[0m \u001b[1;33m==\u001b[0m \u001b[1;34m'call'\u001b[0m\u001b[1;33m:\u001b[0m\u001b[1;33m\u001b[0m\u001b[0m\n\u001b[0;32m     50\u001b[0m             \u001b[1;32mreturn\u001b[0m \u001b[0mself\u001b[0m\u001b[1;33m.\u001b[0m\u001b[0mdispatch_call\u001b[0m\u001b[1;33m(\u001b[0m\u001b[0mframe\u001b[0m\u001b[1;33m,\u001b[0m \u001b[0marg\u001b[0m\u001b[1;33m)\u001b[0m\u001b[1;33m\u001b[0m\u001b[0m\n",
      "\u001b[1;32m/home/ray/anaconda3/lib/python3.5/bdb.py\u001b[0m in \u001b[0;36mdispatch_line\u001b[1;34m(self, frame)\u001b[0m\n\u001b[0;32m     65\u001b[0m         \u001b[1;32mif\u001b[0m \u001b[0mself\u001b[0m\u001b[1;33m.\u001b[0m\u001b[0mstop_here\u001b[0m\u001b[1;33m(\u001b[0m\u001b[0mframe\u001b[0m\u001b[1;33m)\u001b[0m \u001b[1;32mor\u001b[0m \u001b[0mself\u001b[0m\u001b[1;33m.\u001b[0m\u001b[0mbreak_here\u001b[0m\u001b[1;33m(\u001b[0m\u001b[0mframe\u001b[0m\u001b[1;33m)\u001b[0m\u001b[1;33m:\u001b[0m\u001b[1;33m\u001b[0m\u001b[0m\n\u001b[0;32m     66\u001b[0m             \u001b[0mself\u001b[0m\u001b[1;33m.\u001b[0m\u001b[0muser_line\u001b[0m\u001b[1;33m(\u001b[0m\u001b[0mframe\u001b[0m\u001b[1;33m)\u001b[0m\u001b[1;33m\u001b[0m\u001b[0m\n\u001b[1;32m---> 67\u001b[1;33m             \u001b[1;32mif\u001b[0m \u001b[0mself\u001b[0m\u001b[1;33m.\u001b[0m\u001b[0mquitting\u001b[0m\u001b[1;33m:\u001b[0m \u001b[1;32mraise\u001b[0m \u001b[0mBdbQuit\u001b[0m\u001b[1;33m\u001b[0m\u001b[0m\n\u001b[0m\u001b[0;32m     68\u001b[0m         \u001b[1;32mreturn\u001b[0m \u001b[0mself\u001b[0m\u001b[1;33m.\u001b[0m\u001b[0mtrace_dispatch\u001b[0m\u001b[1;33m\u001b[0m\u001b[0m\n\u001b[0;32m     69\u001b[0m \u001b[1;33m\u001b[0m\u001b[0m\n",
      "\u001b[1;31mBdbQuit\u001b[0m: "
     ]
    }
   ],
   "source": [
    "data(points)"
   ]
  }
 ],
 "metadata": {
  "kernelspec": {
   "display_name": "Python 3",
   "language": "python",
   "name": "python3"
  },
  "language_info": {
   "codemirror_mode": {
    "name": "ipython",
    "version": 3
   },
   "file_extension": ".py",
   "mimetype": "text/x-python",
   "name": "python",
   "nbconvert_exporter": "python",
   "pygments_lexer": "ipython3",
   "version": "3.5.1"
  }
 },
 "nbformat": 4,
 "nbformat_minor": 0
}
