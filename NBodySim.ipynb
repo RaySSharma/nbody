{
 "cells": [
  {
   "cell_type": "code",
   "execution_count": 166,
   "metadata": {
    "collapsed": true
   },
   "outputs": [],
   "source": [
    "%matplotlib inline\n",
    "\n",
    "import numpy as np\n",
    "import random as rd\n",
    "import matplotlib.pyplot as plt"
   ]
  },
  {
   "cell_type": "code",
   "execution_count": 142,
   "metadata": {
    "collapsed": false
   },
   "outputs": [],
   "source": [
    "G = 4.302*(10**-3) #pc (km/s)^2 / Msun\n",
    "divpot = 0\n",
    "N = 100\n",
    "vel = 200 # km/s\n",
    "pos = 16000 # pc\n",
    "stepsize = 100 #s\n",
    "rd.seed(10)\n",
    "x = [rd.uniform(-pos,pos) for i in range(N)]\n",
    "y = [rd.uniform(-pos,pos) for i in range(N)]\n",
    "z = [rd.uniform(-pos,pos) for i in range(N)]\n",
    "vx = [rd.uniform(-vel,vel) for i in range(N)]\n",
    "vy = [rd.uniform(-vel,vel) for i in range(N)]\n",
    "vz = [rd.uniform(-vel,vel) for i in range(N)]\n",
    "mass = np.vstack(np.ones(len(x)))"
   ]
  },
  {
   "cell_type": "code",
   "execution_count": 159,
   "metadata": {
    "collapsed": true
   },
   "outputs": [],
   "source": [
    "coords = np.zeros((10,100,3))\n",
    "velocities = np.zeros((10,100,3))\n",
    "coords[0] = np.array(list(zip(x,y,z)))\n",
    "velocities[0] = np.array(list(zip(vx,vy,vz)))"
   ]
  },
  {
   "cell_type": "code",
   "execution_count": 160,
   "metadata": {
    "collapsed": false
   },
   "outputs": [],
   "source": [
    "def force(m1, m2, p1, p2, divpot):\n",
    "    t = G*m1*m2*(p1-p2)\n",
    "    b = np.linalg.norm(p1-p2)**3\n",
    "    return t/b - divpot"
   ]
  },
  {
   "cell_type": "code",
   "execution_count": 175,
   "metadata": {
    "collapsed": false
   },
   "outputs": [
    {
     "data": {
      "image/png": "[encoded data removed]",
      "text/plain": [
       "<matplotlib.figure.Figure at 0x7ff055765e10>"
      ]
     },
     "metadata": {},
     "output_type": "display_data"
    }
   ],
   "source": [
    "forces = np.zeros((10,100,3))\n",
    "\n",
    "fig = plt.figure()\n",
    "for time in range(10):\n",
    "    for i in range(N):\n",
    "        Fi = np.zeros(3)\n",
    "        for j in range(N):\n",
    "            if i != j:\n",
    "                    Fi += force(mass[i], mass[j], coords[time][i], coords[time][j], divpot)\n",
    "        forces[time][i] = Fi\n",
    "    try:\n",
    "        velocities[time+1] = velocities[time] + stepsize*forces[time]/mass\n",
    "        coords[time+1] = coords[time] + stepsize*velocities[time]\n",
    "    except:\n",
    "        continue\n",
    "    plt.scatter(coords[time][:,0], coords[time][:,1])"
   ]
  }
 ],
 "metadata": {
  "kernelspec": {
   "display_name": "Python 3",
   "language": "python",
   "name": "python3"
  },
  "language_info": {
   "codemirror_mode": {
    "name": "ipython",
    "version": 3
   },
   "file_extension": ".py",
   "mimetype": "text/x-python",
   "name": "python",
   "nbconvert_exporter": "python",
   "pygments_lexer": "ipython3",
   "version": "3.5.1"
  }
 },
 "nbformat": 4,
 "nbformat_minor": 0
}
